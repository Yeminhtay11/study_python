{
 "cells": [
  {
   "cell_type": "code",
   "execution_count": 54,
   "metadata": {},
   "outputs": [
    {
     "name": "stdout",
     "output_type": "stream",
     "text": [
      "1\n",
      "[10, 2, 3, 4, 5]\n"
     ]
    }
   ],
   "source": [
    "# Creating an array\n",
    "arr = [1, 2, 3, 4, 5]\n",
    "\n",
    "# Accessing elements\n",
    "print(arr[0])  # Output: 1\n",
    "\n",
    "# Updating elements\n",
    "arr[0] = 10\n",
    "print(arr)  # Output: [10, 2, 3, 4, 5]\n"
   ]
  },
  {
   "cell_type": "code",
   "execution_count": 58,
   "metadata": {},
   "outputs": [
    {
     "name": "stdout",
     "output_type": "stream",
     "text": [
      "0\n",
      "1\n",
      "2\n",
      "3\n",
      "4\n",
      "5\n",
      "6\n",
      "7\n",
      "8\n",
      "9\n"
     ]
    }
   ],
   "source": [
    "for j in range(10):\n",
    "    print(j)"
   ]
  },
  {
   "cell_type": "code",
   "execution_count": 6,
   "metadata": {},
   "outputs": [],
   "source": [
    "# Linear Search\n",
    "def linear_search(arr, target):\n",
    "    for i in range(len(arr)):\n",
    "        if arr[i] == target:\n",
    "            return i\n",
    "    return -1\n",
    "\n",
    "# Binary Search (assuming sorted array)\n",
    "def binary_search(arr, target):\n",
    "    left, right = 0, len(arr) - 1\n",
    "    while left <= right:\n",
    "        mid = (left + right) // 2\n",
    "        if arr[mid] == target:\n",
    "            return mid\n",
    "        elif arr[mid] < target:\n",
    "            left = mid + 1\n",
    "        else:\n",
    "            right = mid - 1\n",
    "    return -1\n"
   ]
  },
  {
   "cell_type": "code",
   "execution_count": 62,
   "metadata": {},
   "outputs": [
    {
     "data": {
      "text/plain": [
       "-1"
      ]
     },
     "execution_count": 62,
     "metadata": {},
     "output_type": "execute_result"
    }
   ],
   "source": [
    "arr = [1,2,3,4,5]; target = 6;\n",
    "binary_search(arr,target)"
   ]
  },
  {
   "cell_type": "code",
   "execution_count": 65,
   "metadata": {},
   "outputs": [
    {
     "name": "stdout",
     "output_type": "stream",
     "text": [
      "Something is happening before the function is called.\n",
      "Hello!\n",
      "Something is happening after the function is called.\n"
     ]
    }
   ],
   "source": [
    "\"\"\"Decorators:\n",
    "Decorators are a powerful feature in Python that allow you to modify the behavior of functions or methods. \n",
    "They are widely used in frameworks like Flask and Django for adding additional functionality to views or routes.\n",
    "\"\"\"\n",
    "# Simple decorator example\n",
    "def my_decorator(func):\n",
    "    def wrapper():\n",
    "        print(\"Something is happening before the function is called.\")\n",
    "        func()\n",
    "        print(\"Something is happening after the function is called.\")\n",
    "    return wrapper\n",
    "@my_decorator\n",
    "# @my_decorator\n",
    "def say_hello():\n",
    "    print(\"Hello!\")\n",
    "\n",
    "say_hello()\n"
   ]
  },
  {
   "cell_type": "code",
   "execution_count": 66,
   "metadata": {},
   "outputs": [],
   "source": [
    "import numpy as np\n",
    "im = np.random.rand(100,100)"
   ]
  },
  {
   "cell_type": "code",
   "execution_count": 67,
   "metadata": {},
   "outputs": [
    {
     "name": "stdout",
     "output_type": "stream",
     "text": [
      "0\n",
      "1\n",
      "1\n",
      "2\n",
      "3\n",
      "5\n",
      "8\n",
      "13\n",
      "21\n",
      "34\n"
     ]
    }
   ],
   "source": [
    "\"\"\"Generators:\n",
    "Generators in Python are functions that produce a sequence of values lazily, pausing execution between each value until the next one is requested.\n",
    " They are useful for dealing with large data sets or infinite sequences.\"\"\"\n",
    "\n",
    "# Generator function to generate Fibonacci sequence\n",
    "def fibonacci():\n",
    "    a, b = 0, 1\n",
    "    while True:\n",
    "        yield a\n",
    "        a, b = b, a + b\n",
    "\n",
    "# Using the generator to generate Fibonacci numbers\n",
    "fib = fibonacci()\n",
    "for _ in range(10):\n",
    "    print(next(fib))\n"
   ]
  },
  {
   "cell_type": "code",
   "execution_count": 69,
   "metadata": {},
   "outputs": [
    {
     "name": "stdout",
     "output_type": "stream",
     "text": [
      "1\n",
      "2\n",
      "3\n",
      "4\n"
     ]
    }
   ],
   "source": [
    "\"\"\"Iterators in Python are objects that represent a stream of data. \n",
    "They implement the iterator protocol, which requires two methods: __iter__() and __next__().\n",
    " Iterators can be used to loop over sequences like lists, tuples, or dictionaries.\"\"\"\n",
    "# Custom iterator for iterating over a range of numbers\n",
    "class MyRange:\n",
    "    def __init__(self, start, end):\n",
    "        self.current = start\n",
    "        self.end = end\n",
    "\n",
    "    def __iter__(self):\n",
    "        return self\n",
    "\n",
    "    def __next__(self):\n",
    "        if self.current >= self.end:\n",
    "            raise StopIteration\n",
    "        else:\n",
    "            self.current += 1\n",
    "            return self.current-1 \n",
    "\n",
    "# Using the custom iterator to iterate over a range of numbers\n",
    "my_range = MyRange(1, 5)\n",
    "for num in my_range:\n",
    "    print(num)\n"
   ]
  },
  {
   "cell_type": "code",
   "execution_count": 70,
   "metadata": {},
   "outputs": [
    {
     "name": "stdout",
     "output_type": "stream",
     "text": [
      "[1 2 3 4 5]\n",
      "3.0\n",
      "5\n"
     ]
    }
   ],
   "source": [
    "\"\"\"Introduction to NumPy:\n",
    "NumPy is a fundamental package for scientific computing in Python. \n",
    "It provides support for multidimensional arrays and matrices, along with a collection of mathematical functions to operate on these arrays efficiently.\"\"\"\n",
    "import numpy as np\n",
    "\n",
    "# Creating a NumPy array\n",
    "arr = np.array([1, 2, 3, 4, 5])\n",
    "print(arr)\n",
    "\n",
    "# Performing operations on NumPy arrays\n",
    "print(np.mean(arr))  # Mean of the array\n",
    "print(np.max(arr))   # Maximum value in the array\n"
   ]
  },
  {
   "cell_type": "code",
   "execution_count": 71,
   "metadata": {},
   "outputs": [
    {
     "name": "stdout",
     "output_type": "stream",
     "text": [
      "0    1.0\n",
      "1    3.0\n",
      "2    5.0\n",
      "3    NaN\n",
      "4    6.0\n",
      "5    8.0\n",
      "dtype: float64\n",
      "   A  B\n",
      "0  1  a\n",
      "1  2  b\n",
      "2  3  c\n",
      "3  4  d\n",
      "count    5.000000\n",
      "mean     4.600000\n",
      "std      2.701851\n",
      "min      1.000000\n",
      "25%      3.000000\n",
      "50%      5.000000\n",
      "75%      6.000000\n",
      "max      8.000000\n",
      "dtype: float64\n"
     ]
    }
   ],
   "source": [
    "\"\"\"Pandas is a powerful data manipulation and analysis library for Python.\n",
    " It provides data structures like Series and DataFrame to handle structured data efficiently.\"\"\"\n",
    "import pandas as pd\n",
    "import numpy as np\n",
    "\n",
    "# Creating a pandas Series\n",
    "s = pd.Series([1, 3, 5, np.nan, 6, 8])\n",
    "print(s)\n",
    "\n",
    "# Creating a pandas DataFrame\n",
    "df = pd.DataFrame({'A': [1, 2, 3, 4], 'B': ['a', 'b', 'c', 'd']})\n",
    "print(df)\n",
    "\n",
    "# Performing operations on DataFrame\n",
    "print(s.describe())  # Summary statistics\n"
   ]
  },
  {
   "cell_type": "code",
   "execution_count": null,
   "metadata": {},
   "outputs": [],
   "source": [
    "df.to_csv('output.csv', index=False)\n"
   ]
  },
  {
   "cell_type": "code",
   "execution_count": 73,
   "metadata": {},
   "outputs": [
    {
     "name": "stdout",
     "output_type": "stream",
     "text": [
      "      Name  Age  Salary\n",
      "2  Charlie   35   70000\n",
      "3    David   40   80000\n",
      "      Name  Age  Salary\n",
      "3    David   40   80000\n",
      "2  Charlie   35   70000\n",
      "1      Bob   30   60000\n",
      "0    Alice   25   50000\n"
     ]
    }
   ],
   "source": [
    "\"\"\"Using NumPy and pandas, we can perform various data manipulation tasks\n",
    " such as filtering, sorting, merging, and aggregation. These libraries provide convenient functions for handling missing data, \n",
    " reshaping data, and performing complex operations on datasets.\"\"\"\n",
    "# Data manipulation with pandas\n",
    "data = {'Name': ['Alice', 'Bob', 'Charlie', 'David'],\n",
    "        'Age': [25, 30, 35, 40],\n",
    "        'Salary': [50000, 60000, 70000, 80000]}\n",
    "df = pd.DataFrame(data)\n",
    "df.to_csv('output.csv', index=False    )\n",
    "# Filtering data\n",
    "print(df[df['Age'] > 30])\n",
    "\n",
    "# # Sorting data\n",
    "print(df.sort_values(by='Salary', ascending=False))\n",
    "\n",
    "\n"
   ]
  },
  {
   "cell_type": "markdown",
   "metadata": {},
   "source": [
    "Overview of Data Visualization:\n",
    "Data visualization is the graphical representation of data to provide insights and aid in understanding patterns, trends, and relationships in the data. Matplotlib and Seaborn are popular Python libraries for creating static, interactive, and publication-quality visualizations.\n",
    "\n",
    "Using Matplotlib:\n",
    "Matplotlib is a comprehensive library for creating static, interactive, and animated visualizations in Python. It provides a wide range of plotting functions for creating various types of plots such as line plots, scatter plots, bar plots, histograms, and more."
   ]
  },
  {
   "cell_type": "code",
   "execution_count": 27,
   "metadata": {},
   "outputs": [
    {
     "data": {
      "image/png": "[encoded data removed]",
      "text/plain": [
       "<Figure size 640x480 with 1 Axes>"
      ]
     },
     "metadata": {},
     "output_type": "display_data"
    }
   ],
   "source": [
    "import matplotlib.pyplot as plt\n",
    "\n",
    "# Example of a line plot\n",
    "x = [1, 2, 3, 4, 5]\n",
    "y = [2, 3, 5, 7, 11]\n",
    "\n",
    "plt.plot(x, y)\n",
    "plt.xlabel('X-axis')\n",
    "plt.ylabel('Y-axis')\n",
    "plt.title('Line Plot')\n",
    "plt.show()\n"
   ]
  },
  {
   "cell_type": "code",
   "execution_count": 29,
   "metadata": {},
   "outputs": [
    {
     "data": {
      "image/png": "[encoded data removed]",
      "text/plain": [
       "<Figure size 640x480 with 1 Axes>"
      ]
     },
     "metadata": {},
     "output_type": "display_data"
    }
   ],
   "source": [
    "\"\"\"Seaborn is a statistical data visualization library based on Matplotlib. \n",
    "It provides a higher-level interface for creating attractive and informative statistical graphics.\n",
    " Seaborn simplifies the process of creating complex visualizations and offers additional functionality for exploring data and creating sophisticated plots.\"\"\"\n",
    "\n",
    "import seaborn as sns\n",
    "\n",
    "# Example of a scatter plot using Seaborn\n",
    "sns.set(style=\"whitegrid\")\n",
    "tips = sns.load_dataset(\"tips\")\n",
    "sns.scatterplot(x=\"total_bill\", y=\"tip\", hue=\"sex\", data=tips)\n",
    "plt.xlabel('Total Bill')\n",
    "plt.ylabel('Tip')\n",
    "plt.title('Scatter Plot')\n",
    "plt.show()\n"
   ]
  },
  {
   "cell_type": "code",
   "execution_count": 33,
   "metadata": {},
   "outputs": [
    {
     "data": {
      "image/png": "[encoded data removed]",
      "text/plain": [
       "<Figure size 640x480 with 1 Axes>"
      ]
     },
     "metadata": {},
     "output_type": "display_data"
    }
   ],
   "source": [
    "\"\"\"Both Matplotlib and Seaborn offer extensive customization options to modify the appearance of plots, \n",
    "including colors, markers, lines, labels, titles, legends, and more. \n",
    "Customizing plots allows you to tailor visualizations to specific requirements and enhance their aesthetic appeal and clarity.\"\"\"\n",
    "# Customizing a plot with Matplotlib\n",
    "plt.plot(x, y, marker='o', linestyle='--', color='green', label='Data')\n",
    "plt.xlabel('X-axis')\n",
    "plt.ylabel('Y-axis')\n",
    "plt.title('Customized Line Plot')\n",
    "plt.legend()\n",
    "plt.grid(True)\n",
    "plt.show()\n"
   ]
  },
  {
   "cell_type": "code",
   "execution_count": 42,
   "metadata": {},
   "outputs": [
    {
     "name": "stdout",
     "output_type": "stream",
     "text": [
      "           Sales\n",
      "City Year       \n",
      "NY   2019    100\n",
      "     2020    150\n",
      "LA   2019    200\n",
      "     2020    250\n",
      "      Sales\n",
      "Year       \n",
      "2019    100\n",
      "2020    150\n",
      "Sales    100\n",
      "Name: (NY, 2019), dtype: int64\n"
     ]
    }
   ],
   "source": [
    "\"\"\"Multi-Indexing:\n",
    "Multi-indexing, also known as hierarchical indexing, allows you to index dataframes using multiple levels. \n",
    "It enables you to represent higher-dimensional data in a tabular format and perform operations on grouped subsets of data efficiently.\"\"\"\n",
    "# Creating a multi-index DataFrame\n",
    "import pandas as pd\n",
    "\n",
    "data = {'City': ['NY', 'NY', 'LA', 'LA'],\n",
    "        'Year': [2019, 2020, 2019, 2020],\n",
    "        'Sales': [100, 150, 200, 250]}\n",
    "df = pd.DataFrame(data)\n",
    "df.set_index(['City', 'Year'], inplace=True)\n",
    "print(df)\n",
    "\n",
    "# Accessing data using multi-indexing\n",
    "print(df.loc['NY'])\n",
    "print(df.loc[('NY', 2019)])\n"
   ]
  },
  {
   "cell_type": "code",
   "execution_count": 36,
   "metadata": {},
   "outputs": [
    {
     "name": "stdout",
     "output_type": "stream",
     "text": [
      "   A  B\n",
      "0  1  4\n",
      "1  2  5\n",
      "2  3  6\n",
      "  variable  value\n",
      "0        A      1\n",
      "1        A      2\n",
      "2        A      3\n",
      "3        B      4\n",
      "4        B      5\n",
      "5        B      6\n"
     ]
    }
   ],
   "source": [
    "\"\"\"Reshaping Data:\n",
    "Reshaping data involves transforming data between wide and long formats.\n",
    " This is useful for various data analysis tasks, such as aggregating, merging, and visualizing data.\"\"\"\n",
    "# Reshaping data with melt and pivot\n",
    "df = pd.DataFrame({'A': [1, 2, 3], 'B': [4, 5, 6]})\n",
    "print(df)\n",
    "\n",
    "# Melt the DataFrame\n",
    "df_melted = pd.melt(df)\n",
    "print(df_melted)\n",
    "\n",
    "# Pivot the melted DataFrame\n",
    "df_pivot = df_melted.pivot(index='variable', columns='value')\n",
    "#print(df_pivot)\n"
   ]
  },
  {
   "cell_type": "code",
   "execution_count": null,
   "metadata": {},
   "outputs": [],
   "source": [
    "\"\"\"Advanced Data Cleaning:\n",
    "Advanced data cleaning techniques involve handling missing data, duplicates, and outliers in a more sophisticated manner. \n",
    "This includes imputation, interpolation, outlier detection, and removal.\"\"\"\n"
   ]
  },
  {
   "cell_type": "code",
   "execution_count": 49,
   "metadata": {},
   "outputs": [
    {
     "name": "stdout",
     "output_type": "stream",
     "text": [
      "Original DataFrame:\n",
      "   ID   Age  Salary\n",
      "0   1  25.0   50000\n",
      "1   2   NaN   60000\n",
      "2   3  30.0   70000\n",
      "3   4  35.0   80000\n",
      "4   5  40.0   90000\n"
     ]
    }
   ],
   "source": [
    "import pandas as pd\n",
    "\n",
    "# Creating a sample DataFrame\n",
    "data = {\n",
    "    'ID': [1, 2, 3, 4, 5],\n",
    "    'Age': [25, None, 30, 35, 40],  # Introducing missing data in Age column\n",
    "    'Salary': [50000, 60000, 70000, 80000, 90000], \n",
    "    # Assuming Salary column has some outliers for demonstration\n",
    "}\n",
    "\n",
    "df = pd.DataFrame(data)\n",
    "\n",
    "# Displaying the original DataFrame\n",
    "print(\"Original DataFrame:\")\n",
    "print(df)\n",
    "\n",
    "# Now, you can perform the missing data handling and outlier detection/removal as shown previously.\n"
   ]
  },
  {
   "cell_type": "code",
   "execution_count": 40,
   "metadata": {},
   "outputs": [],
   "source": [
    "# Handling missing data and outliers\n",
    "# Imputation using mean\n",
    "df['Age'].fillna(df['Age'].mean(), inplace=True)\n",
    "\n",
    "# Interpolation\n",
    "df['Salary'].interpolate(method='linear', inplace=True)\n",
    "\n",
    "# Outlier detection and removal\n",
    "Q1 = df['Salary'].quantile(0.25)\n",
    "Q3 = df['Salary'].quantile(0.75)\n",
    "IQR = Q3 - Q1\n",
    "lower_bound = Q1 - 1.5 * IQR\n",
    "upper_bound = Q3 + 1.5 * IQR\n",
    "df = df[(df['Salary'] > lower_bound) & (df['Salary'] < upper_bound)]\n"
   ]
  },
  {
   "cell_type": "code",
   "execution_count": 43,
   "metadata": {},
   "outputs": [
    {
     "name": "stdout",
     "output_type": "stream",
     "text": [
      "City\n",
      "LA    225.0\n",
      "NY    125.0\n",
      "Name: Sales, dtype: float64\n",
      "  City  Sales  Population\n",
      "0   NY    100           8\n",
      "1   NY    150           8\n",
      "2   LA    200           4\n",
      "3   LA    250           4\n",
      "City  City  Year\n",
      "LA    LA    2019   -25.0\n",
      "            2020    25.0\n",
      "NY    NY    2019   -25.0\n",
      "            2020    25.0\n",
      "Name: Sales, dtype: float64\n"
     ]
    }
   ],
   "source": [
    "\"\"\"Advanced data analysis involves performing complex operations on datasets, \n",
    "such as group-by operations, merging datasets, and applying functions to grouped data.\"\"\"\n",
    "\n",
    "# Group-by operations\n",
    "grouped = df.groupby('City')\n",
    "print(grouped['Sales'].mean())\n",
    "\n",
    "# Merging datasets\n",
    "df1 = pd.DataFrame({'City': ['NY', 'LA'], 'Population': [8, 4]})\n",
    "merged_df = pd.merge(df, df1, on='City', how='left')\n",
    "print(merged_df)\n",
    "\n",
    "# Applying functions to grouped data\n",
    "print(grouped.apply(lambda x: x['Sales'] - x['Sales'].mean()))\n"
   ]
  },
  {
   "cell_type": "code",
   "execution_count": 44,
   "metadata": {},
   "outputs": [
    {
     "name": "stdout",
     "output_type": "stream",
     "text": [
      "          A  B\n",
      "Group1 1  1  5\n",
      "       2  2  6\n",
      "Group2 1  3  7\n",
      "       2  4  8\n",
      "   A  B\n",
      "1  1  5\n",
      "2  2  6\n",
      "A    1\n",
      "B    5\n",
      "Name: (Group1, 1), dtype: int64\n"
     ]
    }
   ],
   "source": [
    "# Multi-indexing example\n",
    "import pandas as pd\n",
    "\n",
    "# Creating a multi-index DataFrame\n",
    "data = {'A': [1, 2, 3, 4],\n",
    "        'B': [5, 6, 7, 8]}\n",
    "df = pd.DataFrame(data, index=[['Group1', 'Group1', 'Group2', 'Group2'], [1, 2, 1, 2]])\n",
    "print(df)\n",
    "\n",
    "# Accessing data using multi-indexing\n",
    "print(df.loc['Group1'])\n",
    "print(df.loc[('Group1', 1)])\n"
   ]
  },
  {
   "cell_type": "code",
   "execution_count": 47,
   "metadata": {},
   "outputs": [
    {
     "name": "stdout",
     "output_type": "stream",
     "text": [
      "Monthly Data:\n",
      "            Sales\n",
      "Date             \n",
      "2024-01-31    100\n",
      "2024-02-29    200\n",
      "2024-03-31    300\n",
      "2024-04-30    400\n",
      "\n",
      "Shifted Data:\n",
      "0      NaN\n",
      "1    100.0\n",
      "2    200.0\n",
      "3    300.0\n",
      "Name: Sales, dtype: float64\n"
     ]
    }
   ],
   "source": [
    "import pandas as pd\n",
    "\n",
    "# Creating a sample DataFrame\n",
    "data = {\n",
    "    'Date': ['2024-01-01', '2024-02-01', '2024-03-01', '2024-04-01'],\n",
    "    'Sales': [100, 200, 300, 400],\n",
    "}\n",
    "\n",
    "df = pd.DataFrame(data)\n",
    "\n",
    "# Convert 'Date' column to datetime\n",
    "df['Date'] = pd.to_datetime(df['Date'])\n",
    "\n",
    "# Resample time series data by month\n",
    "monthly_data = df.resample('M', on='Date').sum()\n",
    "\n",
    "print(\"Monthly Data:\")\n",
    "print(monthly_data)\n",
    "\n",
    "# Shift time series data by a specified number of periods\n",
    "shifted_data = df['Sales'].shift(1)\n",
    "\n",
    "print(\"\\nShifted Data:\")\n",
    "print(shifted_data)\n"
   ]
  },
  {
   "cell_type": "code",
   "execution_count": 51,
   "metadata": {},
   "outputs": [
    {
     "name": "stdout",
     "output_type": "stream",
     "text": [
      "Original DataFrame:\n",
      "   ID   Age  Sales\n",
      "0   1  25.0    100\n",
      "1   2  30.0    200\n",
      "2   3  35.0    300\n",
      "3   4  35.0    400\n",
      "4   5  40.0    500\n",
      "5   6  45.0   1000\n",
      "\n",
      "DataFrame after imputation, removing duplicates, and outlier detection:\n",
      "   ID   Age  Sales\n",
      "0   1  25.0    100\n",
      "1   2  30.0    200\n",
      "2   3  35.0    300\n",
      "3   4  35.0    400\n",
      "4   5  40.0    500\n",
      "5   6  45.0   1000\n"
     ]
    }
   ],
   "source": [
    "import pandas as pd\n",
    "import numpy as np\n",
    "from scipy import stats\n",
    "\n",
    "# Creating a sample DataFrame\n",
    "data = {\n",
    "    'ID': [1, 2, 3, 4, 5, 6],\n",
    "    'Age': [25, 30, np.nan, 35, 40, 45],  # Introducing missing data in Age column\n",
    "    'Sales': [100, 200, 300, 400, 500, 1000], \n",
    "    # Introducing outliers in Sales column\n",
    "}\n",
    "\n",
    "df = pd.DataFrame(data)\n",
    "\n",
    "# Imputation using mean for Age column\n",
    "df['Age'].fillna(df['Age'].mean(), inplace=True)\n",
    "\n",
    "# Remove duplicate rows\n",
    "df.drop_duplicates(inplace=True)\n",
    "\n",
    "# Detect and remove outliers using z-score\n",
    "z_scores = np.abs(stats.zscore(df['Sales']))\n",
    "threshold = 3\n",
    "df_no_outliers = df[(z_scores < threshold)]\n",
    "\n",
    "print(\"Original DataFrame:\")\n",
    "print(df)\n",
    "print(\"\\nDataFrame after imputation, removing duplicates, and outlier detection:\")\n",
    "print(df_no_outliers)\n"
   ]
  },
  {
   "cell_type": "code",
   "execution_count": 53,
   "metadata": {},
   "outputs": [
    {
     "name": "stdout",
     "output_type": "stream",
     "text": [
      "Grouped DataFrame:\n",
      "                Sales       \n",
      "                  sum   mean\n",
      "Category Region             \n",
      "A        North    400  200.0\n",
      "         South    200  200.0\n",
      "B        North    150  150.0\n",
      "         South    650  325.0\n"
     ]
    }
   ],
   "source": [
    "import pandas as pd\n",
    "\n",
    "# Creating a sample DataFrame\n",
    "data = {\n",
    "    'Category': ['A', 'A', 'B', 'B', 'A', 'B'],\n",
    "    'Region': ['North', 'South', 'North', 'South', 'North', 'South'],\n",
    "    'Sales': [100, 200, 150, 250, 300, 400],\n",
    "}\n",
    "\n",
    "df = pd.DataFrame(data)\n",
    "\n",
    "# Group by multiple columns and apply custom aggregation functions\n",
    "df_grouped = df.groupby(['Category', 'Region']).agg({'Sales': ['sum', 'mean']})\n",
    "\n",
    "print(\"Grouped DataFrame:\")\n",
    "print(df_grouped)\n"
   ]
  },
  {
   "cell_type": "code",
   "execution_count": null,
   "metadata": {},
   "outputs": [],
   "source": []
  }
 ],
 "metadata": {
  "kernelspec": {
   "display_name": "base",
   "language": "python",
   "name": "python3"
  },
  "language_info": {
   "codemirror_mode": {
    "name": "ipython",
    "version": 3
   },
   "file_extension": ".py",
   "mimetype": "text/x-python",
   "name": "python",
   "nbconvert_exporter": "python",
   "pygments_lexer": "ipython3",
   "version": "3.11.7"
  }
 },
 "nbformat": 4,
 "nbformat_minor": 2
}
