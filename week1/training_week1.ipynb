{
 "cells": [
  {
   "cell_type": "code",
   "execution_count": 3,
   "metadata": {},
   "outputs": [
    {
     "name": "stdout",
     "output_type": "stream",
     "text": [
      "Hello, ye\n",
      "Hello,ye\n"
     ]
    }
   ],
   "source": [
    "#dyanmic input\n",
    "name = input(\"What is your name? \")\n",
    "\n",
    "print(f\"Hello, %s\"%name)\n",
    "print(f\"Hello,{name}\")"
   ]
  },
  {
   "cell_type": "code",
   "execution_count": null,
   "metadata": {},
   "outputs": [],
   "source": [
    "#string \n",
    "name = \"Yeb\"\n",
    "message = \"hello, world!\"\n",
    "#string opertation\n",
    "concatenated = name + \" \" + message\n",
    "substrinng = message[7:12] \n",
    "\n",
    "uppercase = substrinng.upper()\n",
    "\n",
    "print(uppercase)"
   ]
  },
  {
   "cell_type": "code",
   "execution_count": null,
   "metadata": {},
   "outputs": [],
   "source": [
    "# List variables\n",
    "numbers = [1, 2, 3, 4, 5]\n",
    "names = ['Alice', 'Bob', 'Charlie']\n",
    "mixed_list = [10, 'hello', True]\n",
    "\n",
    "# List operations\n",
    "length_of_list = len(numbers)\n",
    "element_access = names[0]\n",
    "sliced_list = numbers[1:4]\n",
    "numbers.append(6)   # Append an item to the end of the list\n",
    "numbers.remove(3)   # Remove an item from the list\n"
   ]
  },
  {
   "cell_type": "code",
   "execution_count": null,
   "metadata": {},
   "outputs": [],
   "source": [
    "# Tuple variables\n",
    "coordinates = (10, 20)\n",
    "rgb_colors = ('red', 'green', 'blue')\n",
    "\n",
    "# Tuple operations\n",
    "length_of_tuple = len(coordinates)\n",
    "element_access = rgb_colors[1]\n"
   ]
  },
  {
   "cell_type": "code",
   "execution_count": null,
   "metadata": {},
   "outputs": [],
   "source": [
    "# Dictionary variables\n",
    "person = {'name': 'Alice', 'age': 30, 'city': 'New York'}\n",
    "\n",
    "# Dictionary operations\n",
    "name = person['name']\n",
    "person['age'] = 31   # Update value\n",
    "person['job'] = 'Engineer'  # Add new key-value pair\n",
    "del person['city']   # Remove a key-value pair\n"
   ]
  },
  {
   "cell_type": "code",
   "execution_count": null,
   "metadata": {},
   "outputs": [],
   "source": [
    "# Control Structures\n",
    "x = 10\n",
    "\n",
    "# if, elif, else statements\n",
    "if x > 0:\n",
    "    print(\"Positive\")\n",
    "elif x == 0:\n",
    "    print(\"Zero\")\n",
    "else:\n",
    "    print(\"Negative\")\n",
    "\n",
    "# Nested if statements\n",
    "num = 15\n",
    "if num > 0:\n",
    "    if num % 2 == 0:\n",
    "        print(\"Positive even number\")\n",
    "    else:\n",
    "        print(\"Positive odd number\")\n"
   ]
  },
  {
   "cell_type": "code",
   "execution_count": null,
   "metadata": {},
   "outputs": [],
   "source": [
    "# Functions\n",
    "def greet(name):\n",
    "    return \"Hello, \" + name\n",
    "\n",
    "# Calling a function\n",
    "print(greet(\"Alice\"))\n",
    "\n",
    "# Function with default parameter\n",
    "def greet_default(name=\"Guest\"):\n",
    "    return \"Hello, \" + name\n",
    "\n",
    "print(greet_default())  # Output: Hello, Guest\n",
    "\n",
    "# Function with keyword arguments\n",
    "def greet_keyword(name, greeting=\"Hello\"):\n",
    "    return greeting + \", \" + name\n",
    "\n",
    "print(greet_keyword(\"Alice\", greeting=\"Hi\"))  # Output: Hi, Alice\n"
   ]
  },
  {
   "cell_type": "code",
   "execution_count": null,
   "metadata": {},
   "outputs": [],
   "source": [
    "#using module\n",
    "def add (a,b):\n",
    "    return a+b\n",
    "def substract(a,b):\n",
    "    return a-b\n",
    "import my_module\n",
    "print(my_module.add(5,3))"
   ]
  },
  {
   "cell_type": "code",
   "execution_count": null,
   "metadata": {},
   "outputs": [],
   "source": [
    "#check prime\n",
    "def is_prime(n):\n",
    "    if n <=1:\n",
    "        return False\n",
    "    for i in range(2,int(n**0.5)+1):\n",
    "        if n%i == 0:\n",
    "            return False\n",
    "    return  True\n",
    "    \n",
    "\n",
    "    \n",
    "print(is_prime(5))\n",
    "def find_all_prime(start,end):\n",
    "    primes = []\n",
    "    for i in range(start,end+1):\n",
    "        if is_prime(i):\n",
    "            primes.append(i)\n",
    "\n",
    "    return primes    \n",
    "\n",
    "print(find_all_prime(1,20))"
   ]
  },
  {
   "cell_type": "code",
   "execution_count": 11,
   "metadata": {},
   "outputs": [
    {
     "name": "stdout",
     "output_type": "stream",
     "text": [
      "3\n"
     ]
    }
   ],
   "source": [
    "#lambdafunction\n",
    "#lambda arguments:expression\n",
    "x = 1;\n",
    "y =2;\n",
    "#compariosn of two function\n",
    "def add(x,y):\n",
    "    return x+y\n",
    "\n",
    "add_lambda = lambda x,y : x+y\n",
    "\n",
    "print(add_lambda(1,2))"
   ]
  },
  {
   "cell_type": "code",
   "execution_count": 8,
   "metadata": {},
   "outputs": [
    {
     "name": "stdout",
     "output_type": "stream",
     "text": [
      "[2, 4, 6, 8, 10]\n"
     ]
    }
   ],
   "source": [
    "#using lambda with fileter\n",
    "\n",
    "numbers = [1,2,3,4,5,6,7,8,9,10]\n",
    "even_numbers = filter(lambda x: x%2==0,numbers)\n",
    "print(list(even_numbers))"
   ]
  },
  {
   "cell_type": "code",
   "execution_count": 9,
   "metadata": {},
   "outputs": [
    {
     "name": "stdout",
     "output_type": "stream",
     "text": [
      "[1, 4, 9, 16, 25, 36, 49, 64, 81, 100]\n"
     ]
    }
   ],
   "source": [
    "#using lambda with map\n",
    "squared = map(lambda x:x**2,numbers)\n",
    "print(list(squared))"
   ]
  },
  {
   "cell_type": "code",
   "execution_count": 10,
   "metadata": {},
   "outputs": [
    {
     "name": "stdout",
     "output_type": "stream",
     "text": [
      "[('Charlie', 22), ('ALice', 25), ('Bob', 25)]\n"
     ]
    }
   ],
   "source": [
    "#sorting with lambda\n",
    "\n",
    "students = [ (\"ALice\",25),(\"Bob\",25),(\"Charlie\",22)]\n",
    "sorted_students = sorted(students, key = lambda x:x[1])\n",
    "print(sorted_students)"
   ]
  },
  {
   "cell_type": "code",
   "execution_count": 12,
   "metadata": {},
   "outputs": [
    {
     "name": "stdout",
     "output_type": "stream",
     "text": [
      "[0, 1, 2, 3, 4, 5, 6, 7, 8, 9]\n"
     ]
    }
   ],
   "source": [
    "# Lists\n",
    "numbers = [1, 2, 3, 4, 5]\n",
    "\n",
    "# List methods\n",
    "numbers.append(6)\n",
    "numbers.extend([7, 8, 9])\n",
    "numbers.insert(0, 0)\n",
    "print(numbers)\n",
    "numbers.remove(5)\n",
    "popped = numbers.pop()\n",
    "numbers.sort()\n",
    "numbers.reverse()\n",
    "\n",
    "# List comprehension\n",
    "squared_numbers = [x ** 2 for x in numbers]\n"
   ]
  },
  {
   "cell_type": "code",
   "execution_count": 13,
   "metadata": {},
   "outputs": [
    {
     "name": "stdout",
     "output_type": "stream",
     "text": [
      "1\n"
     ]
    }
   ],
   "source": [
    "# Tuples\n",
    "coordinates = (10, 20)\n",
    "colors = ('red', 'green', 'blue')\n",
    "\n",
    "# Tuple methods\n",
    "index = colors.index('green')\n",
    "count_red = colors.count('red')\n",
    "\n",
    "print(count_red)"
   ]
  },
  {
   "cell_type": "code",
   "execution_count": 15,
   "metadata": {},
   "outputs": [
    {
     "name": "stdout",
     "output_type": "stream",
     "text": [
      "dict_keys(['name', 'age', 'city'])\n",
      "dict_values(['Alice', 30, 'New York'])\n",
      "dict_items([('name', 'Alice'), ('age', 30), ('city', 'New York')])\n",
      "30\n",
      "{'name': 'Alice', 'age': 30, 'city': 'New York', 'job': 'Engineer'}\n",
      "{'name': 'Alice', 'age': 30, 'job': 'Engineer'}\n"
     ]
    }
   ],
   "source": [
    "# Dictionaries\n",
    "person = {'name': 'Alice', 'age': 30, 'city': 'New York'}\n",
    "\n",
    "# Dictionary methods\n",
    "keys = person.keys()\n",
    "print(keys)\n",
    "values = person.values()\n",
    "print(values)\n",
    "items = person.items()\n",
    "print(items)\n",
    "age = person.get('age')\n",
    "print(age)\n",
    "person.update({'job': 'Engineer'})\n",
    "print(person)\n",
    "removed_item = person.pop('city')\n",
    "print(person)\n"
   ]
  },
  {
   "cell_type": "code",
   "execution_count": 16,
   "metadata": {},
   "outputs": [
    {
     "name": "stdout",
     "output_type": "stream",
     "text": [
      "{1, 2, 5, 6}\n",
      "{1, 2}\n",
      "{3, 4}\n",
      "{1, 2, 3, 4, 5, 6}\n"
     ]
    }
   ],
   "source": [
    "# Sets\n",
    "a = {1, 2, 3, 4}\n",
    "b = {3, 4, 5, 6}\n",
    "\n",
    "# Set operations\n",
    "union = a | b\n",
    "intersection = a & b\n",
    "difference = a - b\n",
    "symmetric_difference = a ^ b\n",
    "print(symmetric_difference)\n",
    "print(difference)\n",
    "print(intersection)\n",
    "print(union)\n",
    "# Set methods\n",
    "a.add(5)\n",
    "b.remove(6)\n"
   ]
  },
  {
   "cell_type": "code",
   "execution_count": 17,
   "metadata": {},
   "outputs": [
    {
     "name": "stdout",
     "output_type": "stream",
     "text": [
      "Hello, World!\n",
      "This is a text file.\n"
     ]
    }
   ],
   "source": [
    "# File Handling\n",
    "# Writing to a file\n",
    "with open('hello_data.txt', 'w') as file:\n",
    "    file.write('Hello, World!\\n')\n",
    "    file.write('This is a text file.\\n')\n",
    "\n",
    "# Reading from a file\n",
    "with open('hello_data.txt', 'r') as file:\n",
    "    lines = file.readlines()\n",
    "    for line in lines:\n",
    "        print(line.strip())  # Strip newline characters\n",
    "\n",
    "# File handling with context manager\n",
    "with open('hello_data.txt', 'a') as file:\n",
    "    file.write('Appending new line.\\n')\n"
   ]
  },
  {
   "cell_type": "code",
   "execution_count": null,
   "metadata": {},
   "outputs": [],
   "source": [
    "def word_count(input_file,output_file):\n",
    "    #dictionary to store the word count\n",
    "    word_counts = {}\n",
    "\n",
    "    #open input file for reading    \n",
    "    with open(input_file,\"r\") as file:\n",
    "        #read the content of the file\n",
    "        contents = file.read()\n",
    "        #split the content into words\n",
    "        words = contents.split()\n",
    "        #count the words of occurance\n",
    "        for word in words:\n",
    "           word_counts[word] = word_counts.get(word,0)+1\n",
    "\n",
    "    #open output file for writing\n",
    "    with open(output_file,\"w\") as file:\n",
    "        for word,count in word_counts.items():\n",
    "            file.write(f\"{word}:{count}\\n\")\n",
    "\n",
    "    \n",
    "input_file = 'hello_data.txt'\n",
    "output_file = 'hello_data_copy.txt'\n",
    "word_count(input_file,output_file)\n",
    "print(\"Word count complted successfully!\")"
   ]
  },
  {
   "cell_type": "code",
   "execution_count": 9,
   "metadata": {},
   "outputs": [
    {
     "name": "stdout",
     "output_type": "stream",
     "text": [
      "Result: 10.0\n",
      "No exceptions occurred.\n",
      "Execution completed.\n"
     ]
    }
   ],
   "source": [
    "# Error handling example\n",
    "try:\n",
    "    num = int(input(\"Enter a number: \"))\n",
    "    result = 10 / num\n",
    "    print(\"Result:\", result)\n",
    "except ZeroDivisionError:\n",
    "    print(\"Error: Cannot divide by zero.\")\n",
    "except ValueError:\n",
    "    print(\"Error: Invalid input. Please enter a number.\")\n",
    "else:\n",
    "    print(\"No exceptions occurred.\")\n",
    "finally:\n",
    "    print(\"Execution completed.\")\n"
   ]
  },
  {
   "cell_type": "code",
   "execution_count": 2,
   "metadata": {},
   "outputs": [
    {
     "name": "stdout",
     "output_type": "stream",
     "text": [
      "Car: Toyota Camry\n",
      "Car: Honda Civic\n"
     ]
    }
   ],
   "source": [
    "class Car:\n",
    "    def __init__(self, make, model):\n",
    "        self.make = make\n",
    "        self.model = model\n",
    "\n",
    "    def display_info(self):\n",
    "        print(f\"Car: {self.make} {self.model}\")\n",
    "\n",
    "# Creating objects (instances) of the Car class\n",
    "car1 = Car(\"Toyota\", \"Camry\")\n",
    "car2 = Car(\"Honda\", \"Civic\")\n",
    "\n",
    "# Accessing attributes and invoking methods\n",
    "car1.display_info()  # Output: Car: Toyota Camry\n",
    "car2.display_info()  # Output: Car: Honda Civic\n"
   ]
  },
  {
   "cell_type": "code",
   "execution_count": 3,
   "metadata": {},
   "outputs": [
    {
     "name": "stdout",
     "output_type": "stream",
     "text": [
      "Buddy is 3 years old\n",
      "Canine\n"
     ]
    }
   ],
   "source": [
    "#classses and object\n",
    "\"\"\"\n",
    "    attr1 is a class attribute set to the value “mammal”. Class attributes are shared by all instances of the class.\n",
    "    __init__ is a special method (constructor) that initializes an instance of the Dog class. It takes two parameters: self (referring to the instance being created) and name (representing the name of the dog). The name parameter is used to assign a name attribute to each instance of Dog.\n",
    "    The speak method is defined within the Dog class. This method prints a string that includes the name of the dog instance.\n",
    "\"\"\"\n",
    "class Dog:\n",
    "    species = \"Canine\"  # Class attribute\n",
    "\n",
    "    def __init__(self, name, age):\n",
    "        self.name = name  # Instance attribute\n",
    "        self.age = age\n",
    "\n",
    "    def description(self):\n",
    "        return f\"{self.name} is {self.age} years old\"\n",
    "\n",
    "# Creating objects of the Dog class\n",
    "dog1 = Dog(\"Buddy\", 3)\n",
    "dog2 = Dog(\"Max\", 5)\n",
    "\n",
    "# Accessing instance and class attributes\n",
    "print(dog1.description())  # Output: Buddy is 3 years old\n",
    "print(dog2.species)        # Output: Canine\n"
   ]
  },
  {
   "cell_type": "code",
   "execution_count": 7,
   "metadata": {},
   "outputs": [
    {
     "name": "stdout",
     "output_type": "stream",
     "text": [
      "1000\n"
     ]
    }
   ],
   "source": [
    "#encapsulation\n",
    "\"\"\"Encapsulation is one of the fundamental concepts in object-oriented programming (OOP). \n",
    "It describes the idea of wrapping data and the methods that work on data within one unit.\n",
    " This puts restrictions on accessing variables and methods directly and can prevent the accidental modification of data. \n",
    " To prevent accidental change, an object’s variable can only be changed by an object’s method. Those types of variables are known as private variables.\"\"\"\n",
    "class BankAccount:\n",
    "    def __init__(self, balance):\n",
    "        self.__balance = balance  # Private attribute\n",
    "\n",
    "    def get_balance(self):\n",
    "        return self.__balance\n",
    "\n",
    "    def deposit(self, amount):\n",
    "        self.__balance += amount\n",
    "\n",
    "    def withdraw(self, amount):\n",
    "        if amount <= self.__balance:\n",
    "            self.__balance -= amount\n",
    "        else:\n",
    "            print(\"Insufficient funds\")\n",
    "\n",
    "# Creating objects of the BankAccount class\n",
    "account = BankAccount(1000)\n",
    "\n",
    "# Accessing private attribute through getter method\n",
    "print(account.get_balance())  # Output: 1000\n",
    "\n",
    "# Attempting to access private attribute directly (raises AttributeError)\n",
    "# print(account.__balance)\n"
   ]
  },
  {
   "cell_type": "code",
   "execution_count": 4,
   "metadata": {},
   "outputs": [
    {
     "name": "stdout",
     "output_type": "stream",
     "text": [
      "Woof!\n",
      "Meow!\n"
     ]
    }
   ],
   "source": [
    "#Inheritance\n",
    "\"\"\"Inheritance is the capability of one class to derive or inherit the properties from another class. The class that derives properties is called the derived class or child class and the class from which the properties are being derived is called the base class or parent class. The benefits of inheritance are:\n",
    "\n",
    "    It represents real-world relationships well.\n",
    "    It provides the reusability of a code. We don’t have to write the same code again and again. Also, it allows us to add more features to a class without modifying it.\n",
    "    It is transitive in nature, which means that if class B inherits from another class A, then all the subclasses of B would automatically inherit from class A.\n",
    "\n",
    "Types of Inheritance\n",
    "\n",
    "    Single Inheritance: Single-level inheritance enables a derived class to inherit characteristics from a single-parent class.\n",
    "    Multilevel Inheritance: Multi-level inheritance enables a derived class to inherit properties from an immediate parent class which in turn inherits properties from his parent class. \n",
    "    Hierarchical Inheritance: Hierarchical-level inheritance enables more than one derived class to inherit properties from a parent class.\n",
    "    Multiple Inheritance: Multiple-level inheritance enables one derived class to inherit properties from more than one base class.\n",
    "\n",
    "\"\"\"\n",
    "class Animal:\n",
    "    def speak(self):\n",
    "        pass\n",
    "\n",
    "class Dog(Animal):\n",
    "    def speak(self):\n",
    "        return \"Woof!\"\n",
    "\n",
    "class Cat(Animal):\n",
    "    def speak(self):\n",
    "        return \"Meow!\"\n",
    "\n",
    "# Creating objects of the Dog and Cat classes\n",
    "dog = Dog()\n",
    "cat = Cat()\n",
    "\n",
    "# Calling overridden method\n",
    "print(dog.speak())  # Output: Woof!\n",
    "print(cat.speak())  # Output: Meow!\n",
    "\n",
    "\n"
   ]
  },
  {
   "cell_type": "code",
   "execution_count": 5,
   "metadata": {},
   "outputs": [
    {
     "name": "stdout",
     "output_type": "stream",
     "text": [
      "Rahul\n",
      "886012\n",
      "My name is Rahul\n",
      "IdNumber: 886012\n",
      "Post: Intern\n"
     ]
    }
   ],
   "source": [
    "# Python code to demonstrate how parent constructors \n",
    "# are called. \n",
    "\n",
    "# parent class \n",
    "class Person(object): \n",
    "\n",
    "\t# __init__ is known as the constructor \n",
    "\tdef __init__(self, name, idnumber): \n",
    "\t\tself.name = name \n",
    "\t\tself.idnumber = idnumber \n",
    "\n",
    "\tdef display(self): \n",
    "\t\tprint(self.name) \n",
    "\t\tprint(self.idnumber) \n",
    "\t\t\n",
    "\tdef details(self): \n",
    "\t\tprint(\"My name is {}\".format(self.name)) \n",
    "\t\tprint(\"IdNumber: {}\".format(self.idnumber)) \n",
    "\t\n",
    "# child class \n",
    "class Employee(Person): \n",
    "\tdef __init__(self, name, idnumber, salary, post): \n",
    "\t\tself.salary = salary \n",
    "\t\tself.post = post \n",
    "\n",
    "\t\t# invoking the __init__ of the parent class \n",
    "\t\tPerson.__init__(self, name, idnumber) \n",
    "\t\t\n",
    "\tdef details(self): \n",
    "\t\tprint(\"My name is {}\".format(self.name)) \n",
    "\t\tprint(\"IdNumber: {}\".format(self.idnumber)) \n",
    "\t\tprint(\"Post: {}\".format(self.post)) \n",
    "\n",
    "\n",
    "# creation of an object variable or an instance \n",
    "a = Employee('Rahul', 886012, 200000, \"Intern\") \n",
    "\n",
    "# calling a function of the class Person using \n",
    "# its instance \n",
    "a.display() \n",
    "a.details()\n"
   ]
  },
  {
   "cell_type": "code",
   "execution_count": 6,
   "metadata": {},
   "outputs": [
    {
     "name": "stdout",
     "output_type": "stream",
     "text": [
      "78.5\n",
      "24\n"
     ]
    }
   ],
   "source": [
    "#polymorphism\n",
    "#Polymorphism simply means having many forms. \n",
    "#For example, we need to determine if the given species of birds fly or not, using polymorphism we can do this using a single function.\n",
    "class Shape:\n",
    "    def area(self):\n",
    "        pass\n",
    "\n",
    "class Circle(Shape):\n",
    "    def __init__(self, radius):\n",
    "        self.radius = radius\n",
    "\n",
    "    def area(self):\n",
    "        return 3.14 * self.radius * self.radius\n",
    "\n",
    "class Rectangle(Shape):\n",
    "    def __init__(self, length, width):\n",
    "        self.length = length\n",
    "        self.width = width\n",
    "\n",
    "    def area(self):\n",
    "        return self.length * self.width\n",
    "\n",
    "# Creating objects of the Circle and Rectangle classes\n",
    "circle = Circle(5)\n",
    "rectangle = Rectangle(4, 6)\n",
    "\n",
    "# Polymorphic method invocation\n",
    "print(circle.area())     # Output: 78.5\n",
    "print(rectangle.area())  # Output: 24\n"
   ]
  },
  {
   "cell_type": "code",
   "execution_count": null,
   "metadata": {},
   "outputs": [],
   "source": [
    "#special method\n",
    "class Book:\n",
    "    def __init__(self, title, author):\n",
    "        self.title = title\n",
    "        self.author = author\n",
    "\n",
    "    def __str__(self):\n",
    "        return f\"{self.title} by {self.author}\"\n",
    "\n",
    "# Creating an object of the Book class\n",
    "book = Book(\"Python Programming\", \"John Smith\")\n",
    "\n",
    "# Printing the object (calls __str__ method)\n",
    "print(book)  # Output: Python Programming by John Smith\n"
   ]
  }
 ],
 "metadata": {
  "kernelspec": {
   "display_name": "base",
   "language": "python",
   "name": "python3"
  },
  "language_info": {
   "codemirror_mode": {
    "name": "ipython",
    "version": 3
   },
   "file_extension": ".py",
   "mimetype": "text/x-python",
   "name": "python",
   "nbconvert_exporter": "python",
   "pygments_lexer": "ipython3",
   "version": "3.11.4"
  }
 },
 "nbformat": 4,
 "nbformat_minor": 2
}
